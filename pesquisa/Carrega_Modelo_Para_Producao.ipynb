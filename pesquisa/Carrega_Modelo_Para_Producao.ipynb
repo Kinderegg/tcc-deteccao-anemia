{
 "cells": [
  {
   "cell_type": "markdown",
   "metadata": {},
   "source": [
    "# Tenta carregar o modelo e fazer uma previsão"
   ]
  },
  {
   "cell_type": "code",
   "execution_count": 58,
   "metadata": {},
   "outputs": [],
   "source": [
    "#importa as bibliotecas necessárias\n",
    "\n",
    "import keras\n",
    "import numpy as np\n",
    "from PIL import Image"
   ]
  },
  {
   "cell_type": "code",
   "execution_count": 59,
   "metadata": {},
   "outputs": [],
   "source": [
    "#carrega o modelo criado e exibe os dados dele\n",
    "\n",
    "model = keras.models.load_model(\"model.h5\")"
   ]
  },
  {
   "cell_type": "markdown",
   "metadata": {},
   "source": [
    "## Faz uma previsão"
   ]
  },
  {
   "cell_type": "code",
   "execution_count": 60,
   "metadata": {},
   "outputs": [],
   "source": [
    "#carrega uma imagem de teste e abre\n",
    "\n",
    "image_upload = \"teste_24.JPG\"\n",
    "image = Image.open(image_upload)"
   ]
  },
  {
   "cell_type": "code",
   "execution_count": 61,
   "metadata": {},
   "outputs": [],
   "source": [
    "#Faz os tratamentos necessários na imagem para ser lido pela CNN\n",
    "\n",
    "image = image.resize((150,150))\n",
    "image = np.array(image.convert('RGB'))\n",
    "image.shape = (1,150,150,3)"
   ]
  },
  {
   "cell_type": "code",
   "execution_count": 62,
   "metadata": {},
   "outputs": [],
   "source": [
    "#faz a previsão da imagem no modelo carregado anteriormente\n",
    "\n",
    "result = model.predict(image)"
   ]
  },
  {
   "cell_type": "code",
   "execution_count": 63,
   "metadata": {},
   "outputs": [],
   "source": [
    "#armazena índice de probabilidade mais alta\n",
    "\n",
    "ind = np.argmax(result)"
   ]
  },
  {
   "cell_type": "code",
   "execution_count": 64,
   "metadata": {},
   "outputs": [
    {
     "name": "stdout",
     "output_type": "stream",
     "text": [
      "RESULTADO: O animal está doente.\n"
     ]
    }
   ],
   "source": [
    "#cria um vetor com os nomes das classes e exibe o resultado da previsão feita\n",
    "\n",
    "classes = [\"doente\", \"saudável\"]\n",
    "print(\"RESULTADO: O animal está \" + classes[ind] + \".\")"
   ]
  },
  {
   "cell_type": "code",
   "execution_count": null,
   "metadata": {},
   "outputs": [],
   "source": []
  }
 ],
 "metadata": {
  "kernelspec": {
   "display_name": "Python 3.9.12 ('base')",
   "language": "python",
   "name": "python3"
  },
  "language_info": {
   "codemirror_mode": {
    "name": "ipython",
    "version": 3
   },
   "file_extension": ".py",
   "mimetype": "text/x-python",
   "name": "python",
   "nbconvert_exporter": "python",
   "pygments_lexer": "ipython3",
   "version": "3.9.12"
  },
  "vscode": {
   "interpreter": {
    "hash": "3c15617f75d2dea37c637cb1da08094f2fe4e0580ebe6846f12ec9f4169f685a"
   }
  }
 },
 "nbformat": 4,
 "nbformat_minor": 4
}
